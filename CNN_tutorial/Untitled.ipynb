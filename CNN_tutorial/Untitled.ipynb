{
 "cells": [
  {
   "cell_type": "code",
   "execution_count": null,
   "id": "259c88a0",
   "metadata": {},
   "outputs": [],
   "source": [
    "from keras_preprocessing.image.utils import load_img\n",
    "# data augmentaion with python and keras\n",
    "from keras.preprocessing.image import ImageDataGenerator,array_to_img,img_to_array\n",
    "datagen=ImageDataGenerator(\n",
    "        rotation_range=40,\n",
    "        width_shift_range=0.2,\n",
    "        height_shift_range=0.2,\n",
    "        shear_range=0.2,\n",
    "        zoom_range=0.2,\n",
    "        horizontal_flip=True,\n",
    "        fill_mode=\"nearest\")\n",
    "img=load_img(r\"C:\\Users\\user\\Desktop\\Data\\onur-binay-E18nZ_OHh04-unsplash.jpg\")\n",
    "x=img_to_array(img) # array with shape (3,150,150)\n",
    "x=x.reshape((1,)+x.shape) # numpy array with shape (1,3,150,150)\n",
    "# generate batches of different images\n",
    "#note:.flow commmand generates batches of randomly transfered images and save the result to stated directory\n",
    "i=0\n",
    "for batch in datagen.flow(x,batch_size=1,\n",
    "                          save_to_dir=r\"C:\\Users\\user\\Desktop\\DL_tutorial\\CNN_tutorial\",save_prefix=\"cat\",save_format=\"jpeg\"):\n",
    "     i+=1\n",
    "     if i>20:\n",
    "       break # generate only 20 images"
   ]
  },
  {
   "cell_type": "code",
   "execution_count": null,
   "id": "78ac723e",
   "metadata": {},
   "outputs": [],
   "source": []
  }
 ],
 "metadata": {
  "kernelspec": {
   "display_name": "Python 3 (ipykernel)",
   "language": "python",
   "name": "python3"
  },
  "language_info": {
   "codemirror_mode": {
    "name": "ipython",
    "version": 3
   },
   "file_extension": ".py",
   "mimetype": "text/x-python",
   "name": "python",
   "nbconvert_exporter": "python",
   "pygments_lexer": "ipython3",
   "version": "3.9.7"
  }
 },
 "nbformat": 4,
 "nbformat_minor": 5
}
