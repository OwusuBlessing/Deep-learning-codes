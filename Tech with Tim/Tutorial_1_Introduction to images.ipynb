{
 "cells": [
  {
   "cell_type": "code",
   "execution_count": 2,
   "id": "865e57fe",
   "metadata": {},
   "outputs": [],
   "source": [
    "# import cv2\n",
    "import cv2"
   ]
  },
  {
   "cell_type": "code",
   "execution_count": 14,
   "id": "f831d68d",
   "metadata": {},
   "outputs": [],
   "source": [
    "# load image\n",
    "img=cv2.imread(\"Assets/la_eterna_14.jpg\")"
   ]
  },
  {
   "cell_type": "code",
   "execution_count": 5,
   "id": "07213ed8",
   "metadata": {},
   "outputs": [],
   "source": [
    "# modes of loading images\n",
    "#-1,cv2.IMREAD_COLOR:Loads a color image and ignores any transparency in th image\n",
    "# 0,cv2.IMREAD_GRAYSCALE: Load image in grayscale mode\n",
    "# 1,cv2.IMREAD_UNCHANGED:Load image as such including alpha channel"
   ]
  },
  {
   "cell_type": "code",
   "execution_count": 16,
   "id": "e1ab0642",
   "metadata": {},
   "outputs": [],
   "source": [
    "# dsiplay image\n",
    "cv2.imshow(\"flower_image\",img)\n",
    "cv2.waitKey(0)\n",
    "cv2.destroyAllWindows()"
   ]
  },
  {
   "cell_type": "code",
   "execution_count": 19,
   "id": "bdf2110b",
   "metadata": {},
   "outputs": [],
   "source": [
    "# Resizing and rotaing images\n",
    "# resize image\n",
    "img2=cv2.resize(img,(600,600))\n",
    "cv2.imshow(\"flower_image_resize\",img2)\n",
    "cv2.waitKey(0)\n",
    "cv2.destroyAllWindows()"
   ]
  },
  {
   "cell_type": "code",
   "execution_count": 21,
   "id": "dff6cff2",
   "metadata": {},
   "outputs": [],
   "source": [
    "# resize image as fraction of original size\n",
    "img2=cv2.resize(img,(0,0),fx=2,fy=2)\n",
    "cv2.imshow(\"flower_image_resize\",img2)\n",
    "cv2.waitKey(0)\n",
    "cv2.destroyAllWindows()"
   ]
  },
  {
   "cell_type": "code",
   "execution_count": 22,
   "id": "60a79b23",
   "metadata": {},
   "outputs": [],
   "source": [
    "# rotaing images\n",
    "img3=cv2.rotate(img,cv2.cv2.ROTATE_90_COUNTERCLOCKWISE)\n",
    "cv2.imshow(\"flower_image_resize\",img3)\n",
    "cv2.waitKey(0)\n",
    "cv2.destroyAllWindows()"
   ]
  },
  {
   "cell_type": "code",
   "execution_count": 23,
   "id": "127d587f",
   "metadata": {},
   "outputs": [
    {
     "data": {
      "text/plain": [
       "True"
      ]
     },
     "execution_count": 23,
     "metadata": {},
     "output_type": "execute_result"
    }
   ],
   "source": [
    "# Wrting images\n",
    "cv2.imwrite(\"new_img.jpg\",img3)"
   ]
  },
  {
   "cell_type": "code",
   "execution_count": null,
   "id": "b0ff1f5c",
   "metadata": {},
   "outputs": [],
   "source": []
  }
 ],
 "metadata": {
  "kernelspec": {
   "display_name": "Python 3 (ipykernel)",
   "language": "python",
   "name": "python3"
  },
  "language_info": {
   "codemirror_mode": {
    "name": "ipython",
    "version": 3
   },
   "file_extension": ".py",
   "mimetype": "text/x-python",
   "name": "python",
   "nbconvert_exporter": "python",
   "pygments_lexer": "ipython3",
   "version": "3.9.7"
  }
 },
 "nbformat": 4,
 "nbformat_minor": 5
}
