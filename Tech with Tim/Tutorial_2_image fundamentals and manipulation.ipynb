{
 "cells": [
  {
   "cell_type": "code",
   "execution_count": 1,
   "id": "ba99e774",
   "metadata": {},
   "outputs": [],
   "source": [
    "# import cv2\n",
    "import cv2"
   ]
  },
  {
   "cell_type": "markdown",
   "id": "0f101011",
   "metadata": {},
   "source": [
    "### Image representatiom"
   ]
  },
  {
   "cell_type": "code",
   "execution_count": 22,
   "id": "bc81a256",
   "metadata": {},
   "outputs": [],
   "source": [
    "# load image\n",
    "img=cv2.imread(\"Assets/la_eterna_14.jpg\")\n",
    "# load image\n",
    "img=cv2.imread(\"Assets/la_eterna_14.jpg\")"
   ]
  },
  {
   "cell_type": "code",
   "execution_count": 4,
   "id": "fb01026e",
   "metadata": {},
   "outputs": [
    {
     "name": "stdout",
     "output_type": "stream",
     "text": [
      "<class 'numpy.ndarray'>\n"
     ]
    }
   ],
   "source": [
    "print(type(img))"
   ]
  },
  {
   "cell_type": "code",
   "execution_count": 5,
   "id": "a6554faf",
   "metadata": {},
   "outputs": [
    {
     "name": "stdout",
     "output_type": "stream",
     "text": [
      "(224, 224, 3)\n"
     ]
    }
   ],
   "source": [
    "print(img.shape)"
   ]
  },
  {
   "cell_type": "code",
   "execution_count": null,
   "id": "a125f426",
   "metadata": {},
   "outputs": [],
   "source": [
    "## NOTE:\n",
    "### IMAGES are represented in arrays inside another arrays\n",
    "### e.g [\n",
    "###    [],\n",
    "###    [], these three arrays represent the rows of the image\n",
    "###    [],\n",
    "###]\n",
    "### Assuming we have two pixels by two pixels\n",
    "### [\n",
    "###   [[0,0,0],[255,255,255]], Where each pixel is represented in blue,green,red\n",
    "###   [[0,0,0],[255,255,255]]\n",
    "###]\n",
    "\n",
    "\n"
   ]
  },
  {
   "cell_type": "code",
   "execution_count": 13,
   "id": "a12a51b1",
   "metadata": {},
   "outputs": [
    {
     "name": "stdout",
     "output_type": "stream",
     "text": [
      "[[ 65 169 114]\n",
      " [ 49 157 104]\n",
      " [ 31 145  92]\n",
      " [  2 117  68]\n",
      " [  1 111  69]\n",
      " [  1 108  69]\n",
      " [ 10 110  74]\n",
      " [ 13 109  73]\n",
      " [ 16 106  71]\n",
      " [  8  95  59]\n",
      " [ 13  97  62]\n",
      " [ 15  99  64]\n",
      " [ 12  96  62]\n",
      " [ 16 100  71]\n",
      " [ 12  96  68]\n",
      " [ 14 103  77]\n",
      " [ 12 116  91]\n",
      " [ 23 139 110]\n",
      " [ 22 146 110]\n",
      " [ 16 148 107]\n",
      " [ 13 151 109]\n",
      " [  3 147 105]\n",
      " [  1 143 106]\n",
      " [ 15 151 117]\n",
      " [ 46 167 133]\n",
      " [ 59 172 138]\n",
      " [ 59 172 134]\n",
      " [ 55 168 130]\n",
      " [ 42 154 124]\n",
      " [ 25 151 129]\n",
      " [ 26 177 162]\n",
      " [ 43 211 204]\n",
      " [ 34 210 210]\n",
      " [ 22 204 204]\n",
      " [ 28 211 207]\n",
      " [ 15 191 184]\n",
      " [ 22 187 174]\n",
      " [ 16 168 149]\n",
      " [ 24 162 138]\n",
      " [ 39 165 136]\n",
      " [ 56 168 134]\n",
      " [ 68 169 131]\n",
      " [ 74 166 123]\n",
      " [ 77 165 119]\n",
      " [ 73 159 111]\n",
      " [ 71 152 103]\n",
      " [ 74 149  98]\n",
      " [ 73 143  96]\n",
      " [ 66 136  95]\n",
      " [ 60 133  93]\n",
      " [ 59 135  93]\n",
      " [ 51 133  90]\n",
      " [ 43 132  88]\n",
      " [ 36 134  88]\n",
      " [ 32 135  90]\n",
      " [ 33 139  98]\n",
      " [ 34 143 104]\n",
      " [ 33 146 109]\n",
      " [ 35 148 114]\n",
      " [ 33 149 114]\n",
      " [ 29 145 110]\n",
      " [ 25 141 106]\n",
      " [ 20 136 101]\n",
      " [ 16 132  97]\n",
      " [ 20 136 101]\n",
      " [ 20 135 102]\n",
      " [ 19 133 103]\n",
      " [ 15 131 102]\n",
      " [ 13 129 100]\n",
      " [ 14 128  98]\n",
      " [ 18 130 100]\n",
      " [ 21 133 103]\n",
      " [ 14 131 100]\n",
      " [  6 128  98]\n",
      " [  4 135 108]\n",
      " [  8 140 117]\n",
      " [ 13 140 119]\n",
      " [ 16 137 117]\n",
      " [ 21 136 116]\n",
      " [ 15 121 104]\n",
      " [ 29 125 114]\n",
      " [ 17 103  95]\n",
      " [ 38 115 107]\n",
      " [ 47 125 114]\n",
      " [ 40 128 115]\n",
      " [ 29 126 112]\n",
      " [ 35 141 124]\n",
      " [ 42 161 140]\n",
      " [ 35 174 147]\n",
      " [ 28 181 155]\n",
      " [ 13 174 152]\n",
      " [  4 174 155]\n",
      " [  0 172 152]\n",
      " [ 10 186 163]\n",
      " [ 18 187 161]\n",
      " [  7 163 133]\n",
      " [  4 142 111]\n",
      " [ 16 140 110]\n",
      " [ 33 149 120]\n",
      " [ 59 161 133]\n",
      " [ 69 156 123]\n",
      " [ 83 162 123]\n",
      " [ 86 167 120]\n",
      " [ 55 140  88]\n",
      " [ 47 136  87]\n",
      " [ 51 134  95]\n",
      " [ 72 138 113]\n",
      " [ 84 141 132]\n",
      " [ 67 123 134]\n",
      " [ 50 109 125]\n",
      " [ 41 106 115]\n",
      " [ 31  94 102]\n",
      " [ 34  87  97]\n",
      " [ 29  76  84]\n",
      " [ 22  71  73]\n",
      " [ 15  75  67]\n",
      " [ 21 104  82]\n",
      " [ 31 128  96]\n",
      " [ 20 123  85]\n",
      " [  6 101  64]\n",
      " [ 12  87  55]\n",
      " [ 12  73  45]\n",
      " [  3  59  30]\n",
      " [ 10  69  38]\n",
      " [ 29 102  62]\n",
      " [ 37 126  82]\n",
      " [ 34 141  92]\n",
      " [ 42 156 103]\n",
      " [ 52 164 110]\n",
      " [ 48 161 104]\n",
      " [ 40 151  97]\n",
      " [ 36 144  92]\n",
      " [ 35 137  89]\n",
      " [ 35 131  84]\n",
      " [ 32 123  78]\n",
      " [ 25 110  66]\n",
      " [ 11  94  49]\n",
      " [ 17  97  50]\n",
      " [ 45 123  76]\n",
      " [ 69 146  95]\n",
      " [ 76 153 102]\n",
      " [ 78 160 107]\n",
      " [ 72 159 103]\n",
      " [ 61 152  97]\n",
      " [ 49 141  90]\n",
      " [ 38 133  83]\n",
      " [ 36 132  85]\n",
      " [ 48 147 101]\n",
      " [ 43 142  96]\n",
      " [ 29 130  79]\n",
      " [ 32 133  81]\n",
      " [ 31 133  78]\n",
      " [ 37 139  84]\n",
      " [ 55 159 106]\n",
      " [ 69 176 127]\n",
      " [ 82 190 144]\n",
      " [ 92 199 156]\n",
      " [ 96 203 160]\n",
      " [101 206 163]\n",
      " [102 207 162]\n",
      " [101 208 165]\n",
      " [ 91 199 153]\n",
      " [ 82 187 144]\n",
      " [ 68 171 126]\n",
      " [ 48 150 108]\n",
      " [ 29 132  87]\n",
      " [ 35 137  95]\n",
      " [ 39 144  99]\n",
      " [ 40 145 102]\n",
      " [ 34 141  98]\n",
      " [ 27 132  89]\n",
      " [ 20 122  80]\n",
      " [ 22 120  78]\n",
      " [ 29 123  82]\n",
      " [ 35 126  87]\n",
      " [ 34 127  88]\n",
      " [ 37 136  96]\n",
      " [ 47 150 112]\n",
      " [ 44 153 115]\n",
      " [ 33 142 103]\n",
      " [ 29 133  92]\n",
      " [ 37 134  90]\n",
      " [ 58 143  99]\n",
      " [ 78 155 111]\n",
      " [ 92 167 123]\n",
      " [ 97 176 127]\n",
      " [ 94 179 127]\n",
      " [ 83 171 117]\n",
      " [ 65 153 100]\n",
      " [ 46 127  82]\n",
      " [ 29 100  67]\n",
      " [ 19  83  54]\n",
      " [ 21  80  52]\n",
      " [ 28  89  61]\n",
      " [ 36 106  76]\n",
      " [ 39 123  89]\n",
      " [ 55 150 113]\n",
      " [ 61 165 124]\n",
      " [ 56 167 123]\n",
      " [ 50 162 115]\n",
      " [ 39 148  99]\n",
      " [ 36 139  88]\n",
      " [ 47 142  91]\n",
      " [ 63 151  98]\n",
      " [ 72 154 101]\n",
      " [ 84 162 108]\n",
      " [ 89 167 113]\n",
      " [ 86 161 109]\n",
      " [ 60 132  89]\n",
      " [ 38 108  71]\n",
      " [ 21  91  55]\n",
      " [  5  78  46]\n",
      " [ 22  97  69]\n",
      " [ 17  91  65]\n",
      " [ 20  90  67]\n",
      " [ 17  85  60]\n",
      " [ 13  78  52]\n",
      " [ 21  91  60]\n",
      " [ 37 120  82]\n",
      " [ 39 134  90]\n",
      " [ 47 151 104]\n",
      " [ 46 153 104]\n",
      " [ 56 157 106]\n",
      " [ 52 151 101]]\n",
      "[[ 84 173 134]\n",
      " [ 86 169 131]\n",
      " [ 74 154 117]]\n"
     ]
    }
   ],
   "source": [
    "# Manually manipulating images\n",
    "# print first row of image\n",
    "print(img[220])\n",
    "# check certain pixel value\n",
    "print(img[0][2:5])\n"
   ]
  },
  {
   "cell_type": "code",
   "execution_count": 14,
   "id": "c984c384",
   "metadata": {},
   "outputs": [
    {
     "name": "stdout",
     "output_type": "stream",
     "text": [
      "[[ 84 173 134]\n",
      " [ 86 169 131]\n",
      " [ 74 154 117]]\n"
     ]
    }
   ],
   "source": [
    "\n",
    "# check certain pixel value\n",
    "print(img[0][2:5])\n"
   ]
  },
  {
   "cell_type": "code",
   "execution_count": 16,
   "id": "0e447ce4",
   "metadata": {},
   "outputs": [
    {
     "name": "stdout",
     "output_type": "stream",
     "text": [
      "[ 84 173 134]\n"
     ]
    }
   ],
   "source": [
    "# check a pixel value\n",
    "print(img[0][2])"
   ]
  },
  {
   "cell_type": "code",
   "execution_count": 21,
   "id": "c19d6c7f",
   "metadata": {},
   "outputs": [],
   "source": [
    "# changing pixels value\n",
    "import random\n",
    "for i in range(100):\n",
    "    for j in range(img.shape[1]):\n",
    "        img[i][j]=[random.randint(0,255),random.randint(0,255),random.randint(0,255)]\n",
    "cv2.imshow(\"image\",img)\n",
    "cv2.waitKey(0)\n",
    "cv2.destroyAllWindows()\n",
    "# The top of the image becomes random color because the pixels values are randomly selected"
   ]
  },
  {
   "cell_type": "code",
   "execution_count": null,
   "id": "cc3d8947",
   "metadata": {},
   "outputs": [],
   "source": [
    "#### copying one part of an image and pasting it in another\n",
    "tag=img2[10:150,50:170]\n",
    "img2[20:160,40:160]=tag\n",
    "cv2.imshow(\"image\",img2)\n",
    "cv2.waitKey(0)\n",
    "cv2.destroyAllWindows()\n"
   ]
  },
  {
   "cell_type": "code",
   "execution_count": null,
   "id": "0251f1d6",
   "metadata": {},
   "outputs": [],
   "source": []
  }
 ],
 "metadata": {
  "kernelspec": {
   "display_name": "Python 3 (ipykernel)",
   "language": "python",
   "name": "python3"
  },
  "language_info": {
   "codemirror_mode": {
    "name": "ipython",
    "version": 3
   },
   "file_extension": ".py",
   "mimetype": "text/x-python",
   "name": "python",
   "nbconvert_exporter": "python",
   "pygments_lexer": "ipython3",
   "version": "3.9.7"
  }
 },
 "nbformat": 4,
 "nbformat_minor": 5
}
