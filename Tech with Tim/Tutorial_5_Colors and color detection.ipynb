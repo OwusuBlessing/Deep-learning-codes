{
 "cells": [
  {
   "cell_type": "code",
   "execution_count": 8,
   "id": "899f1455",
   "metadata": {},
   "outputs": [],
   "source": [
    "import cv2\n",
    "import numpy as np\n"
   ]
  },
  {
   "cell_type": "code",
   "execution_count": 11,
   "id": "84ad933c",
   "metadata": {},
   "outputs": [],
   "source": [
    "cap = cv2.VideoCapture(0)\n",
    "while True:\n",
    "    ret,frame = cap.read()\n",
    "    width = int(cap.get(3))\n",
    "    height = int(cap.get(4))\n",
    "    \n",
    "    # convert bgr image into hsv\n",
    "    hsv = cv2.cvtColor(frame,cv2.COLOR_BGR2HSV)\n",
    "    # define color to extract lower and upper\n",
    "    lower_blue = np.array([90,50,50])\n",
    "    upper_blue = np.array([130,255,255])\n",
    "    \n",
    "    mask = cv2.inRange(hsv,lower_blue,upper_blue)\n",
    "    \n",
    "    BGR_color = np.array([[[255,0,0]]])\n",
    "    result = cv2.bitwise_and(frame,frame,mask=mask)\n",
    "    \n",
    "    cv2.imshow('frame',result)\n",
    "    cv2.imshow('mask',mask)\n",
    "    \n",
    "    if cv2.waitKey(1) == ord(\"q\"):\n",
    "        break\n",
    "cap.release()\n",
    "cv2.destroyAllWindows()"
   ]
  },
  {
   "cell_type": "code",
   "execution_count": null,
   "id": "af6766c4",
   "metadata": {},
   "outputs": [],
   "source": []
  }
 ],
 "metadata": {
  "kernelspec": {
   "display_name": "Python 3 (ipykernel)",
   "language": "python",
   "name": "python3"
  },
  "language_info": {
   "codemirror_mode": {
    "name": "ipython",
    "version": 3
   },
   "file_extension": ".py",
   "mimetype": "text/x-python",
   "name": "python",
   "nbconvert_exporter": "python",
   "pygments_lexer": "ipython3",
   "version": "3.9.7"
  }
 },
 "nbformat": 4,
 "nbformat_minor": 5
}
