{
 "cells": [
  {
   "cell_type": "code",
   "execution_count": 1,
   "id": "152d4f0e",
   "metadata": {},
   "outputs": [],
   "source": [
    "import cv2\n",
    "import numpy as np"
   ]
  },
  {
   "cell_type": "code",
   "execution_count": 2,
   "id": "113da32c",
   "metadata": {},
   "outputs": [],
   "source": [
    "# Shi-Tomasi Corner detector and good features to track\n",
    "# load image\n",
    "img=cv2.imread(\"Assets/la_eterna_14.jpg\")\n"
   ]
  },
  {
   "cell_type": "code",
   "execution_count": 7,
   "id": "b2c0b98a",
   "metadata": {},
   "outputs": [],
   "source": [
    "#convert to gray scale image\n",
    "image= cv2.cvtColor(img,cv2.COLOR_BGR2GRAY)\n",
    "# get corners\n",
    "corners = cv2.goodFeaturesToTrack(image,100,0.01,10)\n",
    "# display corner\n",
    "# convert corners to integers\n",
    "corners = np.int0(corners)\n",
    "# draw corners\n",
    "for corner in corners:\n",
    "    x,y = corner.ravel()\n",
    "    cv2.circle(img,(x,y),1,(0,255,0),-1)\n",
    "    \n",
    "\n",
    "\n",
    "\n",
    "cv2.imshow(\"frame\",img)\n",
    "cv2.waitKey(0)\n",
    "cv2.destroyAllWindows()\n"
   ]
  },
  {
   "cell_type": "code",
   "execution_count": null,
   "id": "e8fd63e0",
   "metadata": {},
   "outputs": [],
   "source": []
  }
 ],
 "metadata": {
  "kernelspec": {
   "display_name": "Python 3 (ipykernel)",
   "language": "python",
   "name": "python3"
  },
  "language_info": {
   "codemirror_mode": {
    "name": "ipython",
    "version": 3
   },
   "file_extension": ".py",
   "mimetype": "text/x-python",
   "name": "python",
   "nbconvert_exporter": "python",
   "pygments_lexer": "ipython3",
   "version": "3.9.7"
  }
 },
 "nbformat": 4,
 "nbformat_minor": 5
}
