{
 "cells": [
  {
   "cell_type": "code",
   "execution_count": 2,
   "id": "d2e18af0",
   "metadata": {},
   "outputs": [],
   "source": [
    "import cv2\n",
    "import numpy as np"
   ]
  },
  {
   "cell_type": "code",
   "execution_count": 26,
   "id": "cf72f596",
   "metadata": {},
   "outputs": [],
   "source": [
    "# load template and base image\n",
    "base=cv2.resize(cv2.imread(\"Assets/soccer_practice.jpg\",0),(0,0),fx=0.5,fy=0.5)\n",
    "\n",
    "template = cv2.resize(cv2.imread(\"Assets/shoe.png\",0),(0,0),fx=0.5,fy=0.5)"
   ]
  },
  {
   "cell_type": "code",
   "execution_count": 27,
   "id": "19789081",
   "metadata": {},
   "outputs": [],
   "source": [
    "# make a copy of base image\n",
    "height,width = template.shape\n"
   ]
  },
  {
   "cell_type": "code",
   "execution_count": 28,
   "id": "68f2cf40",
   "metadata": {},
   "outputs": [],
   "source": [
    "#EFF set methods for template matching\n",
    "# note Try will all these methos and use the best\n",
    "methods = [cv2.TM_CCOEFF,cv2.TM_CCOEFF_NORMED,cv2.TM_CCORR,cv2.TM_CCORR_NORMED,cv2.TM_SQDIFF,cv2.TM_SQDIFF_NORMED]"
   ]
  },
  {
   "cell_type": "code",
   "execution_count": 29,
   "id": "9e9b7016",
   "metadata": {},
   "outputs": [],
   "source": [
    "for method in methods:\n",
    "    base2 = base.copy()\n",
    "    result = cv2.matchTemplate(base2,template,method)\n",
    "   # (W - w + 1,H-h+1):shape of resulting image\n",
    "    min_val,max_val,min_loc,max_loc = cv2.minMaxLoc(result)\n",
    "    if method in [cv2.TM_SQDIFF,cv2.TM_SQDIFF_NORMED]:\n",
    "        location = min_loc\n",
    "    else:\n",
    "        location = max_loc\n",
    "        \n",
    "    bottom_right = (location[0] + width,location[1] + height)\n",
    "    cv2.rectangle(base2,location,bottom_right,255,5)\n",
    "    cv2.imshow(\"match\",base2)\n",
    "    cv2.waitKey(0)\n",
    "    cv2.destroyAllWindows()\n",
    "\n",
    "    \n",
    "\n",
    "    "
   ]
  },
  {
   "cell_type": "code",
   "execution_count": null,
   "id": "d2d6f824",
   "metadata": {},
   "outputs": [],
   "source": []
  }
 ],
 "metadata": {
  "kernelspec": {
   "display_name": "Python 3 (ipykernel)",
   "language": "python",
   "name": "python3"
  },
  "language_info": {
   "codemirror_mode": {
    "name": "ipython",
    "version": 3
   },
   "file_extension": ".py",
   "mimetype": "text/x-python",
   "name": "python",
   "nbconvert_exporter": "python",
   "pygments_lexer": "ipython3",
   "version": "3.9.7"
  }
 },
 "nbformat": 4,
 "nbformat_minor": 5
}
